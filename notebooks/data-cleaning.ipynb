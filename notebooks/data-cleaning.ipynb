{
 "cells": [
  {
   "cell_type": "markdown",
   "id": "3fd38aab-b4e3-44ca-9742-f323c08a33d3",
   "metadata": {},
   "source": [
    "### 1. Importing Libraries"
   ]
  },
  {
   "cell_type": "code",
   "execution_count": 1,
   "id": "a33fe43f-9843-4c72-93f8-9b472f1a880c",
   "metadata": {},
   "outputs": [],
   "source": [
    "import os\n",
    "import pandas as pd\n",
    "import numpy as np\n",
    "from sklearn.model_selection import train_test_split"
   ]
  },
  {
   "cell_type": "markdown",
   "id": "2947c3b2-b9ab-4780-9d6b-ed543f62123b",
   "metadata": {},
   "source": [
    "### 2. Reading the Data"
   ]
  },
  {
   "cell_type": "code",
   "execution_count": 4,
   "id": "fec542f5-3df0-4057-95b1-1840844a29c0",
   "metadata": {},
   "outputs": [],
   "source": [
    "PROJECT_DIR = r\"D:\\CampusX Projects\\flights-price-prediction-project\"\n",
    "DATA_DIR = \"data\""
   ]
  },
  {
   "cell_type": "code",
   "execution_count": 5,
   "id": "b5fee8c5-f722-4710-8296-e71ae9cde654",
   "metadata": {},
   "outputs": [],
   "source": [
    "def get_data(name):\n",
    "    file_name = f\"{name}.csv\"\n",
    "    file_path = os.path.join(PROJECT_DIR, DATA_DIR, file_name)\n",
    "    return pd.read_csv(file_path)"
   ]
  },
  {
   "cell_type": "code",
   "execution_count": 6,
   "id": "f94ee9d4-34e5-4014-a95c-028034016cf8",
   "metadata": {},
   "outputs": [
    {
     "data": {
      "text/html": [
       "<div>\n",
       "<style scoped>\n",
       "    .dataframe tbody tr th:only-of-type {\n",
       "        vertical-align: middle;\n",
       "    }\n",
       "\n",
       "    .dataframe tbody tr th {\n",
       "        vertical-align: top;\n",
       "    }\n",
       "\n",
       "    .dataframe thead th {\n",
       "        text-align: right;\n",
       "    }\n",
       "</style>\n",
       "<table border=\"1\" class=\"dataframe\">\n",
       "  <thead>\n",
       "    <tr style=\"text-align: right;\">\n",
       "      <th></th>\n",
       "      <th>Airline</th>\n",
       "      <th>Date_of_Journey</th>\n",
       "      <th>Source</th>\n",
       "      <th>Destination</th>\n",
       "      <th>Route</th>\n",
       "      <th>Dep_Time</th>\n",
       "      <th>Arrival_Time</th>\n",
       "      <th>Duration</th>\n",
       "      <th>Total_Stops</th>\n",
       "      <th>Additional_Info</th>\n",
       "      <th>Price</th>\n",
       "    </tr>\n",
       "  </thead>\n",
       "  <tbody>\n",
       "    <tr>\n",
       "      <th>0</th>\n",
       "      <td>IndiGo</td>\n",
       "      <td>24/03/2019</td>\n",
       "      <td>Banglore</td>\n",
       "      <td>New Delhi</td>\n",
       "      <td>BLR → DEL</td>\n",
       "      <td>22:20</td>\n",
       "      <td>01:10 22 Mar</td>\n",
       "      <td>2h 50m</td>\n",
       "      <td>non-stop</td>\n",
       "      <td>No info</td>\n",
       "      <td>3897</td>\n",
       "    </tr>\n",
       "    <tr>\n",
       "      <th>1</th>\n",
       "      <td>Air India</td>\n",
       "      <td>1/05/2019</td>\n",
       "      <td>Kolkata</td>\n",
       "      <td>Banglore</td>\n",
       "      <td>CCU → IXR → BBI → BLR</td>\n",
       "      <td>05:50</td>\n",
       "      <td>13:15</td>\n",
       "      <td>7h 25m</td>\n",
       "      <td>2 stops</td>\n",
       "      <td>No info</td>\n",
       "      <td>7662</td>\n",
       "    </tr>\n",
       "    <tr>\n",
       "      <th>2</th>\n",
       "      <td>Jet Airways</td>\n",
       "      <td>9/06/2019</td>\n",
       "      <td>Delhi</td>\n",
       "      <td>Cochin</td>\n",
       "      <td>DEL → LKO → BOM → COK</td>\n",
       "      <td>09:25</td>\n",
       "      <td>04:25 10 Jun</td>\n",
       "      <td>19h</td>\n",
       "      <td>2 stops</td>\n",
       "      <td>No info</td>\n",
       "      <td>13882</td>\n",
       "    </tr>\n",
       "    <tr>\n",
       "      <th>3</th>\n",
       "      <td>IndiGo</td>\n",
       "      <td>12/05/2019</td>\n",
       "      <td>Kolkata</td>\n",
       "      <td>Banglore</td>\n",
       "      <td>CCU → NAG → BLR</td>\n",
       "      <td>18:05</td>\n",
       "      <td>23:30</td>\n",
       "      <td>5h 25m</td>\n",
       "      <td>1 stop</td>\n",
       "      <td>No info</td>\n",
       "      <td>6218</td>\n",
       "    </tr>\n",
       "    <tr>\n",
       "      <th>4</th>\n",
       "      <td>IndiGo</td>\n",
       "      <td>01/03/2019</td>\n",
       "      <td>Banglore</td>\n",
       "      <td>New Delhi</td>\n",
       "      <td>BLR → NAG → DEL</td>\n",
       "      <td>16:50</td>\n",
       "      <td>21:35</td>\n",
       "      <td>4h 45m</td>\n",
       "      <td>1 stop</td>\n",
       "      <td>No info</td>\n",
       "      <td>13302</td>\n",
       "    </tr>\n",
       "    <tr>\n",
       "      <th>...</th>\n",
       "      <td>...</td>\n",
       "      <td>...</td>\n",
       "      <td>...</td>\n",
       "      <td>...</td>\n",
       "      <td>...</td>\n",
       "      <td>...</td>\n",
       "      <td>...</td>\n",
       "      <td>...</td>\n",
       "      <td>...</td>\n",
       "      <td>...</td>\n",
       "      <td>...</td>\n",
       "    </tr>\n",
       "    <tr>\n",
       "      <th>10678</th>\n",
       "      <td>Air Asia</td>\n",
       "      <td>9/04/2019</td>\n",
       "      <td>Kolkata</td>\n",
       "      <td>Banglore</td>\n",
       "      <td>CCU → BLR</td>\n",
       "      <td>19:55</td>\n",
       "      <td>22:25</td>\n",
       "      <td>2h 30m</td>\n",
       "      <td>non-stop</td>\n",
       "      <td>No info</td>\n",
       "      <td>4107</td>\n",
       "    </tr>\n",
       "    <tr>\n",
       "      <th>10679</th>\n",
       "      <td>Air India</td>\n",
       "      <td>27/04/2019</td>\n",
       "      <td>Kolkata</td>\n",
       "      <td>Banglore</td>\n",
       "      <td>CCU → BLR</td>\n",
       "      <td>20:45</td>\n",
       "      <td>23:20</td>\n",
       "      <td>2h 35m</td>\n",
       "      <td>non-stop</td>\n",
       "      <td>No info</td>\n",
       "      <td>4145</td>\n",
       "    </tr>\n",
       "    <tr>\n",
       "      <th>10680</th>\n",
       "      <td>Jet Airways</td>\n",
       "      <td>27/04/2019</td>\n",
       "      <td>Banglore</td>\n",
       "      <td>Delhi</td>\n",
       "      <td>BLR → DEL</td>\n",
       "      <td>08:20</td>\n",
       "      <td>11:20</td>\n",
       "      <td>3h</td>\n",
       "      <td>non-stop</td>\n",
       "      <td>No info</td>\n",
       "      <td>7229</td>\n",
       "    </tr>\n",
       "    <tr>\n",
       "      <th>10681</th>\n",
       "      <td>Vistara</td>\n",
       "      <td>01/03/2019</td>\n",
       "      <td>Banglore</td>\n",
       "      <td>New Delhi</td>\n",
       "      <td>BLR → DEL</td>\n",
       "      <td>11:30</td>\n",
       "      <td>14:10</td>\n",
       "      <td>2h 40m</td>\n",
       "      <td>non-stop</td>\n",
       "      <td>No info</td>\n",
       "      <td>12648</td>\n",
       "    </tr>\n",
       "    <tr>\n",
       "      <th>10682</th>\n",
       "      <td>Air India</td>\n",
       "      <td>9/05/2019</td>\n",
       "      <td>Delhi</td>\n",
       "      <td>Cochin</td>\n",
       "      <td>DEL → GOI → BOM → COK</td>\n",
       "      <td>10:55</td>\n",
       "      <td>19:15</td>\n",
       "      <td>8h 20m</td>\n",
       "      <td>2 stops</td>\n",
       "      <td>No info</td>\n",
       "      <td>11753</td>\n",
       "    </tr>\n",
       "  </tbody>\n",
       "</table>\n",
       "<p>10683 rows × 11 columns</p>\n",
       "</div>"
      ],
      "text/plain": [
       "           Airline Date_of_Journey    Source Destination  \\\n",
       "0           IndiGo      24/03/2019  Banglore   New Delhi   \n",
       "1        Air India       1/05/2019   Kolkata    Banglore   \n",
       "2      Jet Airways       9/06/2019     Delhi      Cochin   \n",
       "3           IndiGo      12/05/2019   Kolkata    Banglore   \n",
       "4           IndiGo      01/03/2019  Banglore   New Delhi   \n",
       "...            ...             ...       ...         ...   \n",
       "10678     Air Asia       9/04/2019   Kolkata    Banglore   \n",
       "10679    Air India      27/04/2019   Kolkata    Banglore   \n",
       "10680  Jet Airways      27/04/2019  Banglore       Delhi   \n",
       "10681      Vistara      01/03/2019  Banglore   New Delhi   \n",
       "10682    Air India       9/05/2019     Delhi      Cochin   \n",
       "\n",
       "                       Route Dep_Time  Arrival_Time Duration Total_Stops  \\\n",
       "0                  BLR → DEL    22:20  01:10 22 Mar   2h 50m    non-stop   \n",
       "1      CCU → IXR → BBI → BLR    05:50         13:15   7h 25m     2 stops   \n",
       "2      DEL → LKO → BOM → COK    09:25  04:25 10 Jun      19h     2 stops   \n",
       "3            CCU → NAG → BLR    18:05         23:30   5h 25m      1 stop   \n",
       "4            BLR → NAG → DEL    16:50         21:35   4h 45m      1 stop   \n",
       "...                      ...      ...           ...      ...         ...   \n",
       "10678              CCU → BLR    19:55         22:25   2h 30m    non-stop   \n",
       "10679              CCU → BLR    20:45         23:20   2h 35m    non-stop   \n",
       "10680              BLR → DEL    08:20         11:20       3h    non-stop   \n",
       "10681              BLR → DEL    11:30         14:10   2h 40m    non-stop   \n",
       "10682  DEL → GOI → BOM → COK    10:55         19:15   8h 20m     2 stops   \n",
       "\n",
       "      Additional_Info  Price  \n",
       "0             No info   3897  \n",
       "1             No info   7662  \n",
       "2             No info  13882  \n",
       "3             No info   6218  \n",
       "4             No info  13302  \n",
       "...               ...    ...  \n",
       "10678         No info   4107  \n",
       "10679         No info   4145  \n",
       "10680         No info   7229  \n",
       "10681         No info  12648  \n",
       "10682         No info  11753  \n",
       "\n",
       "[10683 rows x 11 columns]"
      ]
     },
     "execution_count": 6,
     "metadata": {},
     "output_type": "execute_result"
    }
   ],
   "source": [
    "flights = get_data(\"flight_price\")\n",
    "flights"
   ]
  },
  {
   "cell_type": "code",
   "execution_count": 7,
   "id": "bb8fbe7f-083d-4803-9fb1-830097fa76b3",
   "metadata": {},
   "outputs": [
    {
     "name": "stdout",
     "output_type": "stream",
     "text": [
      "<class 'pandas.core.frame.DataFrame'>\n",
      "RangeIndex: 10683 entries, 0 to 10682\n",
      "Data columns (total 11 columns):\n",
      " #   Column           Non-Null Count  Dtype \n",
      "---  ------           --------------  ----- \n",
      " 0   Airline          10683 non-null  object\n",
      " 1   Date_of_Journey  10683 non-null  object\n",
      " 2   Source           10683 non-null  object\n",
      " 3   Destination      10683 non-null  object\n",
      " 4   Route            10682 non-null  object\n",
      " 5   Dep_Time         10683 non-null  object\n",
      " 6   Arrival_Time     10683 non-null  object\n",
      " 7   Duration         10683 non-null  object\n",
      " 8   Total_Stops      10682 non-null  object\n",
      " 9   Additional_Info  10683 non-null  object\n",
      " 10  Price            10683 non-null  int64 \n",
      "dtypes: int64(1), object(10)\n",
      "memory usage: 918.2+ KB\n"
     ]
    }
   ],
   "source": [
    "flights.info()"
   ]
  },
  {
   "cell_type": "markdown",
   "id": "4f396322-5636-46ff-9f1c-7407d316201b",
   "metadata": {},
   "source": [
    "- The dataset contains 10,683 rows and 11 features\n",
    "- Columns `Route` and `Total_Stops` having missing value.\n",
    "- The data types of some features are inappropriate"
   ]
  },
  {
   "cell_type": "markdown",
   "id": "14e4dfac-2394-43d6-ae41-ec61503351b2",
   "metadata": {},
   "source": [
    "### 3. Preliminary Analysis"
   ]
  },
  {
   "cell_type": "markdown",
   "id": "18cc715c-a211-4f57-ba6d-642ec93d9d59",
   "metadata": {},
   "source": [
    "#### 3.1 Check Data Types"
   ]
  },
  {
   "cell_type": "code",
   "execution_count": 8,
   "id": "12692110-cea4-4f5a-abd6-486fedb5f3ed",
   "metadata": {},
   "outputs": [
    {
     "data": {
      "text/html": [
       "<div>\n",
       "<style scoped>\n",
       "    .dataframe tbody tr th:only-of-type {\n",
       "        vertical-align: middle;\n",
       "    }\n",
       "\n",
       "    .dataframe tbody tr th {\n",
       "        vertical-align: top;\n",
       "    }\n",
       "\n",
       "    .dataframe thead th {\n",
       "        text-align: right;\n",
       "    }\n",
       "</style>\n",
       "<table border=\"1\" class=\"dataframe\">\n",
       "  <thead>\n",
       "    <tr style=\"text-align: right;\">\n",
       "      <th></th>\n",
       "      <th>Airline</th>\n",
       "      <th>Date_of_Journey</th>\n",
       "      <th>Source</th>\n",
       "      <th>Destination</th>\n",
       "      <th>Route</th>\n",
       "      <th>Dep_Time</th>\n",
       "      <th>Arrival_Time</th>\n",
       "      <th>Duration</th>\n",
       "      <th>Total_Stops</th>\n",
       "      <th>Additional_Info</th>\n",
       "      <th>Price</th>\n",
       "    </tr>\n",
       "  </thead>\n",
       "  <tbody>\n",
       "    <tr>\n",
       "      <th>0</th>\n",
       "      <td>IndiGo</td>\n",
       "      <td>24/03/2019</td>\n",
       "      <td>Banglore</td>\n",
       "      <td>New Delhi</td>\n",
       "      <td>BLR → DEL</td>\n",
       "      <td>22:20</td>\n",
       "      <td>01:10 22 Mar</td>\n",
       "      <td>2h 50m</td>\n",
       "      <td>non-stop</td>\n",
       "      <td>No info</td>\n",
       "      <td>3897</td>\n",
       "    </tr>\n",
       "    <tr>\n",
       "      <th>1</th>\n",
       "      <td>Air India</td>\n",
       "      <td>1/05/2019</td>\n",
       "      <td>Kolkata</td>\n",
       "      <td>Banglore</td>\n",
       "      <td>CCU → IXR → BBI → BLR</td>\n",
       "      <td>05:50</td>\n",
       "      <td>13:15</td>\n",
       "      <td>7h 25m</td>\n",
       "      <td>2 stops</td>\n",
       "      <td>No info</td>\n",
       "      <td>7662</td>\n",
       "    </tr>\n",
       "    <tr>\n",
       "      <th>2</th>\n",
       "      <td>Jet Airways</td>\n",
       "      <td>9/06/2019</td>\n",
       "      <td>Delhi</td>\n",
       "      <td>Cochin</td>\n",
       "      <td>DEL → LKO → BOM → COK</td>\n",
       "      <td>09:25</td>\n",
       "      <td>04:25 10 Jun</td>\n",
       "      <td>19h</td>\n",
       "      <td>2 stops</td>\n",
       "      <td>No info</td>\n",
       "      <td>13882</td>\n",
       "    </tr>\n",
       "    <tr>\n",
       "      <th>3</th>\n",
       "      <td>IndiGo</td>\n",
       "      <td>12/05/2019</td>\n",
       "      <td>Kolkata</td>\n",
       "      <td>Banglore</td>\n",
       "      <td>CCU → NAG → BLR</td>\n",
       "      <td>18:05</td>\n",
       "      <td>23:30</td>\n",
       "      <td>5h 25m</td>\n",
       "      <td>1 stop</td>\n",
       "      <td>No info</td>\n",
       "      <td>6218</td>\n",
       "    </tr>\n",
       "    <tr>\n",
       "      <th>4</th>\n",
       "      <td>IndiGo</td>\n",
       "      <td>01/03/2019</td>\n",
       "      <td>Banglore</td>\n",
       "      <td>New Delhi</td>\n",
       "      <td>BLR → NAG → DEL</td>\n",
       "      <td>16:50</td>\n",
       "      <td>21:35</td>\n",
       "      <td>4h 45m</td>\n",
       "      <td>1 stop</td>\n",
       "      <td>No info</td>\n",
       "      <td>13302</td>\n",
       "    </tr>\n",
       "  </tbody>\n",
       "</table>\n",
       "</div>"
      ],
      "text/plain": [
       "       Airline Date_of_Journey    Source Destination                  Route  \\\n",
       "0       IndiGo      24/03/2019  Banglore   New Delhi              BLR → DEL   \n",
       "1    Air India       1/05/2019   Kolkata    Banglore  CCU → IXR → BBI → BLR   \n",
       "2  Jet Airways       9/06/2019     Delhi      Cochin  DEL → LKO → BOM → COK   \n",
       "3       IndiGo      12/05/2019   Kolkata    Banglore        CCU → NAG → BLR   \n",
       "4       IndiGo      01/03/2019  Banglore   New Delhi        BLR → NAG → DEL   \n",
       "\n",
       "  Dep_Time  Arrival_Time Duration Total_Stops Additional_Info  Price  \n",
       "0    22:20  01:10 22 Mar   2h 50m    non-stop         No info   3897  \n",
       "1    05:50         13:15   7h 25m     2 stops         No info   7662  \n",
       "2    09:25  04:25 10 Jun      19h     2 stops         No info  13882  \n",
       "3    18:05         23:30   5h 25m      1 stop         No info   6218  \n",
       "4    16:50         21:35   4h 45m      1 stop         No info  13302  "
      ]
     },
     "execution_count": 8,
     "metadata": {},
     "output_type": "execute_result"
    }
   ],
   "source": [
    "flights.head()"
   ]
  },
  {
   "cell_type": "code",
   "execution_count": 9,
   "id": "155c974e-ea63-4597-b26c-8e6b515cf20b",
   "metadata": {},
   "outputs": [
    {
     "data": {
      "text/plain": [
       "Airline            object\n",
       "Date_of_Journey    object\n",
       "Source             object\n",
       "Destination        object\n",
       "Route              object\n",
       "Dep_Time           object\n",
       "Arrival_Time       object\n",
       "Duration           object\n",
       "Total_Stops        object\n",
       "Additional_Info    object\n",
       "Price               int64\n",
       "dtype: object"
      ]
     },
     "execution_count": 9,
     "metadata": {},
     "output_type": "execute_result"
    }
   ],
   "source": [
    "flights.dtypes"
   ]
  },
  {
   "cell_type": "markdown",
   "id": "49708303-d006-4918-9351-a18e1da1353e",
   "metadata": {},
   "source": [
    "#### 3.2 Check for Duplicates"
   ]
  },
  {
   "cell_type": "code",
   "execution_count": 10,
   "id": "a31118c1-4659-4098-b1d3-40eedb1ed303",
   "metadata": {},
   "outputs": [
    {
     "data": {
      "text/plain": [
       "220"
      ]
     },
     "execution_count": 10,
     "metadata": {},
     "output_type": "execute_result"
    }
   ],
   "source": [
    "flights.duplicated().sum()"
   ]
  },
  {
   "cell_type": "code",
   "execution_count": 11,
   "id": "6f70ebd0-73bf-4f0e-9ce6-0bdc429469ea",
   "metadata": {},
   "outputs": [
    {
     "data": {
      "text/html": [
       "<div>\n",
       "<style scoped>\n",
       "    .dataframe tbody tr th:only-of-type {\n",
       "        vertical-align: middle;\n",
       "    }\n",
       "\n",
       "    .dataframe tbody tr th {\n",
       "        vertical-align: top;\n",
       "    }\n",
       "\n",
       "    .dataframe thead th {\n",
       "        text-align: right;\n",
       "    }\n",
       "</style>\n",
       "<table border=\"1\" class=\"dataframe\">\n",
       "  <thead>\n",
       "    <tr style=\"text-align: right;\">\n",
       "      <th></th>\n",
       "      <th>Airline</th>\n",
       "      <th>Date_of_Journey</th>\n",
       "      <th>Source</th>\n",
       "      <th>Destination</th>\n",
       "      <th>Route</th>\n",
       "      <th>Dep_Time</th>\n",
       "      <th>Arrival_Time</th>\n",
       "      <th>Duration</th>\n",
       "      <th>Total_Stops</th>\n",
       "      <th>Additional_Info</th>\n",
       "      <th>Price</th>\n",
       "    </tr>\n",
       "  </thead>\n",
       "  <tbody>\n",
       "    <tr>\n",
       "      <th>6321</th>\n",
       "      <td>Air India</td>\n",
       "      <td>01/03/2019</td>\n",
       "      <td>Banglore</td>\n",
       "      <td>New Delhi</td>\n",
       "      <td>BLR → BOM → AMD → DEL</td>\n",
       "      <td>08:50</td>\n",
       "      <td>23:55 02 Mar</td>\n",
       "      <td>39h 5m</td>\n",
       "      <td>2 stops</td>\n",
       "      <td>No info</td>\n",
       "      <td>17135</td>\n",
       "    </tr>\n",
       "    <tr>\n",
       "      <th>9848</th>\n",
       "      <td>Air India</td>\n",
       "      <td>01/03/2019</td>\n",
       "      <td>Banglore</td>\n",
       "      <td>New Delhi</td>\n",
       "      <td>BLR → BOM → AMD → DEL</td>\n",
       "      <td>08:50</td>\n",
       "      <td>23:55 02 Mar</td>\n",
       "      <td>39h 5m</td>\n",
       "      <td>2 stops</td>\n",
       "      <td>No info</td>\n",
       "      <td>17135</td>\n",
       "    </tr>\n",
       "    <tr>\n",
       "      <th>572</th>\n",
       "      <td>Air India</td>\n",
       "      <td>03/03/2019</td>\n",
       "      <td>Banglore</td>\n",
       "      <td>New Delhi</td>\n",
       "      <td>BLR → DEL</td>\n",
       "      <td>21:10</td>\n",
       "      <td>23:55</td>\n",
       "      <td>2h 45m</td>\n",
       "      <td>non-stop</td>\n",
       "      <td>No info</td>\n",
       "      <td>7591</td>\n",
       "    </tr>\n",
       "    <tr>\n",
       "      <th>8168</th>\n",
       "      <td>Air India</td>\n",
       "      <td>03/03/2019</td>\n",
       "      <td>Banglore</td>\n",
       "      <td>New Delhi</td>\n",
       "      <td>BLR → DEL</td>\n",
       "      <td>21:10</td>\n",
       "      <td>23:55</td>\n",
       "      <td>2h 45m</td>\n",
       "      <td>non-stop</td>\n",
       "      <td>No info</td>\n",
       "      <td>7591</td>\n",
       "    </tr>\n",
       "    <tr>\n",
       "      <th>1495</th>\n",
       "      <td>Air India</td>\n",
       "      <td>1/04/2019</td>\n",
       "      <td>Kolkata</td>\n",
       "      <td>Banglore</td>\n",
       "      <td>CCU → DEL → COK → BLR</td>\n",
       "      <td>10:00</td>\n",
       "      <td>01:20 02 Apr</td>\n",
       "      <td>15h 20m</td>\n",
       "      <td>2 stops</td>\n",
       "      <td>No info</td>\n",
       "      <td>10408</td>\n",
       "    </tr>\n",
       "    <tr>\n",
       "      <th>...</th>\n",
       "      <td>...</td>\n",
       "      <td>...</td>\n",
       "      <td>...</td>\n",
       "      <td>...</td>\n",
       "      <td>...</td>\n",
       "      <td>...</td>\n",
       "      <td>...</td>\n",
       "      <td>...</td>\n",
       "      <td>...</td>\n",
       "      <td>...</td>\n",
       "      <td>...</td>\n",
       "    </tr>\n",
       "    <tr>\n",
       "      <th>2692</th>\n",
       "      <td>SpiceJet</td>\n",
       "      <td>24/03/2019</td>\n",
       "      <td>Banglore</td>\n",
       "      <td>New Delhi</td>\n",
       "      <td>BLR → DEL</td>\n",
       "      <td>05:45</td>\n",
       "      <td>08:35</td>\n",
       "      <td>2h 50m</td>\n",
       "      <td>non-stop</td>\n",
       "      <td>No check-in baggage included</td>\n",
       "      <td>4273</td>\n",
       "    </tr>\n",
       "    <tr>\n",
       "      <th>2870</th>\n",
       "      <td>SpiceJet</td>\n",
       "      <td>24/03/2019</td>\n",
       "      <td>Banglore</td>\n",
       "      <td>New Delhi</td>\n",
       "      <td>BLR → DEL</td>\n",
       "      <td>05:45</td>\n",
       "      <td>08:35</td>\n",
       "      <td>2h 50m</td>\n",
       "      <td>non-stop</td>\n",
       "      <td>No check-in baggage included</td>\n",
       "      <td>4273</td>\n",
       "    </tr>\n",
       "    <tr>\n",
       "      <th>3711</th>\n",
       "      <td>SpiceJet</td>\n",
       "      <td>24/03/2019</td>\n",
       "      <td>Banglore</td>\n",
       "      <td>New Delhi</td>\n",
       "      <td>BLR → DEL</td>\n",
       "      <td>20:30</td>\n",
       "      <td>23:20</td>\n",
       "      <td>2h 50m</td>\n",
       "      <td>non-stop</td>\n",
       "      <td>No check-in baggage included</td>\n",
       "      <td>3873</td>\n",
       "    </tr>\n",
       "    <tr>\n",
       "      <th>2634</th>\n",
       "      <td>Vistara</td>\n",
       "      <td>24/03/2019</td>\n",
       "      <td>Banglore</td>\n",
       "      <td>New Delhi</td>\n",
       "      <td>BLR → DEL</td>\n",
       "      <td>11:30</td>\n",
       "      <td>14:10</td>\n",
       "      <td>2h 40m</td>\n",
       "      <td>non-stop</td>\n",
       "      <td>No info</td>\n",
       "      <td>5403</td>\n",
       "    </tr>\n",
       "    <tr>\n",
       "      <th>5470</th>\n",
       "      <td>Vistara</td>\n",
       "      <td>24/03/2019</td>\n",
       "      <td>Banglore</td>\n",
       "      <td>New Delhi</td>\n",
       "      <td>BLR → DEL</td>\n",
       "      <td>11:30</td>\n",
       "      <td>14:10</td>\n",
       "      <td>2h 40m</td>\n",
       "      <td>non-stop</td>\n",
       "      <td>No info</td>\n",
       "      <td>5403</td>\n",
       "    </tr>\n",
       "  </tbody>\n",
       "</table>\n",
       "<p>415 rows × 11 columns</p>\n",
       "</div>"
      ],
      "text/plain": [
       "        Airline Date_of_Journey    Source Destination                  Route  \\\n",
       "6321  Air India      01/03/2019  Banglore   New Delhi  BLR → BOM → AMD → DEL   \n",
       "9848  Air India      01/03/2019  Banglore   New Delhi  BLR → BOM → AMD → DEL   \n",
       "572   Air India      03/03/2019  Banglore   New Delhi              BLR → DEL   \n",
       "8168  Air India      03/03/2019  Banglore   New Delhi              BLR → DEL   \n",
       "1495  Air India       1/04/2019   Kolkata    Banglore  CCU → DEL → COK → BLR   \n",
       "...         ...             ...       ...         ...                    ...   \n",
       "2692   SpiceJet      24/03/2019  Banglore   New Delhi              BLR → DEL   \n",
       "2870   SpiceJet      24/03/2019  Banglore   New Delhi              BLR → DEL   \n",
       "3711   SpiceJet      24/03/2019  Banglore   New Delhi              BLR → DEL   \n",
       "2634    Vistara      24/03/2019  Banglore   New Delhi              BLR → DEL   \n",
       "5470    Vistara      24/03/2019  Banglore   New Delhi              BLR → DEL   \n",
       "\n",
       "     Dep_Time  Arrival_Time Duration Total_Stops  \\\n",
       "6321    08:50  23:55 02 Mar   39h 5m     2 stops   \n",
       "9848    08:50  23:55 02 Mar   39h 5m     2 stops   \n",
       "572     21:10         23:55   2h 45m    non-stop   \n",
       "8168    21:10         23:55   2h 45m    non-stop   \n",
       "1495    10:00  01:20 02 Apr  15h 20m     2 stops   \n",
       "...       ...           ...      ...         ...   \n",
       "2692    05:45         08:35   2h 50m    non-stop   \n",
       "2870    05:45         08:35   2h 50m    non-stop   \n",
       "3711    20:30         23:20   2h 50m    non-stop   \n",
       "2634    11:30         14:10   2h 40m    non-stop   \n",
       "5470    11:30         14:10   2h 40m    non-stop   \n",
       "\n",
       "                   Additional_Info  Price  \n",
       "6321                       No info  17135  \n",
       "9848                       No info  17135  \n",
       "572                        No info   7591  \n",
       "8168                       No info   7591  \n",
       "1495                       No info  10408  \n",
       "...                            ...    ...  \n",
       "2692  No check-in baggage included   4273  \n",
       "2870  No check-in baggage included   4273  \n",
       "3711  No check-in baggage included   3873  \n",
       "2634                       No info   5403  \n",
       "5470                       No info   5403  \n",
       "\n",
       "[415 rows x 11 columns]"
      ]
     },
     "execution_count": 11,
     "metadata": {},
     "output_type": "execute_result"
    }
   ],
   "source": [
    "(\n",
    "    flights\n",
    "    .loc[flights.duplicated(keep=False)]\n",
    "    .sort_values([\"Airline\",\"Date_of_Journey\",\"Source\",\"Destination\"])\n",
    ")"
   ]
  },
  {
   "cell_type": "markdown",
   "id": "60c60273-943c-4efd-8db0-61f51acef3e7",
   "metadata": {},
   "source": [
    "#### 3.3 Observations"
   ]
  },
  {
   "cell_type": "markdown",
   "id": "3aef937a-7cea-4f52-a7e9-0aeefffecfbd",
   "metadata": {},
   "source": [
    "- The type of `Date_of_Journey`, `Dep_Time` and `Arrival_Time` should be changed to datetime\n",
    "- The type of `Duration` and `Duration` is mixed. It should be numeric type.\n",
    "- There are 220 duplicates. They should be removed."
   ]
  },
  {
   "cell_type": "markdown",
   "id": "7e3bc45a-81c4-4a35-b46c-57de69d2c8be",
   "metadata": {},
   "source": [
    "### 4. Detailed Analysis"
   ]
  },
  {
   "cell_type": "markdown",
   "id": "c5984eee-2b01-46da-a2b2-31e4162d7d29",
   "metadata": {},
   "source": [
    "#### Airline"
   ]
  },
  {
   "cell_type": "code",
   "execution_count": 12,
   "id": "7c78a1d5-db77-4b37-90b4-9a18ef9fb96a",
   "metadata": {},
   "outputs": [
    {
     "data": {
      "text/plain": [
       "0             IndiGo\n",
       "1          Air India\n",
       "2        Jet Airways\n",
       "3             IndiGo\n",
       "4             IndiGo\n",
       "            ...     \n",
       "10678       Air Asia\n",
       "10679      Air India\n",
       "10680    Jet Airways\n",
       "10681        Vistara\n",
       "10682      Air India\n",
       "Name: Airline, Length: 10683, dtype: object"
      ]
     },
     "execution_count": 12,
     "metadata": {},
     "output_type": "execute_result"
    }
   ],
   "source": [
    "flights.Airline"
   ]
  },
  {
   "cell_type": "code",
   "execution_count": 13,
   "id": "f6264ce6-0528-4d7f-bec2-3129ed98ab05",
   "metadata": {},
   "outputs": [
    {
     "data": {
      "text/plain": [
       "array(['IndiGo', 'Air India', 'Jet Airways', 'SpiceJet',\n",
       "       'Multiple carriers', 'GoAir', 'Vistara', 'Air Asia',\n",
       "       'Vistara Premium economy', 'Jet Airways Business',\n",
       "       'Multiple carriers Premium economy', 'Trujet'], dtype=object)"
      ]
     },
     "execution_count": 13,
     "metadata": {},
     "output_type": "execute_result"
    }
   ],
   "source": [
    "flights.Airline.unique()"
   ]
  },
  {
   "cell_type": "code",
   "execution_count": 14,
   "id": "44f8b42e-bda7-43ac-827d-e7703f8850f3",
   "metadata": {},
   "outputs": [
    {
     "data": {
      "text/plain": [
       "0             Indigo\n",
       "1          Air India\n",
       "2        Jet Airways\n",
       "3             Indigo\n",
       "4             Indigo\n",
       "            ...     \n",
       "10678       Air Asia\n",
       "10679      Air India\n",
       "10680    Jet Airways\n",
       "10681        Vistara\n",
       "10682      Air India\n",
       "Name: Airline, Length: 10683, dtype: object"
      ]
     },
     "execution_count": 14,
     "metadata": {},
     "output_type": "execute_result"
    }
   ],
   "source": [
    "(\n",
    "    flights\n",
    "    .Airline\n",
    "    .str.replace(\" Premium economy\", \"\")\n",
    "    .str.replace(\" Business\", \"\")\n",
    "    .str.title()\n",
    ")"
   ]
  },
  {
   "cell_type": "markdown",
   "id": "c86b29b0-858b-4ffb-b64e-b735ed6268e9",
   "metadata": {},
   "source": [
    "#### Date_of_Journey"
   ]
  },
  {
   "cell_type": "code",
   "execution_count": 15,
   "id": "a9fe4319-994c-4d3f-9633-2111c4b790f7",
   "metadata": {},
   "outputs": [
    {
     "data": {
      "text/plain": [
       "0        24/03/2019\n",
       "1         1/05/2019\n",
       "2         9/06/2019\n",
       "3        12/05/2019\n",
       "4        01/03/2019\n",
       "            ...    \n",
       "10678     9/04/2019\n",
       "10679    27/04/2019\n",
       "10680    27/04/2019\n",
       "10681    01/03/2019\n",
       "10682     9/05/2019\n",
       "Name: Date_of_Journey, Length: 10683, dtype: object"
      ]
     },
     "execution_count": 15,
     "metadata": {},
     "output_type": "execute_result"
    }
   ],
   "source": [
    "flights.Date_of_Journey"
   ]
  },
  {
   "cell_type": "code",
   "execution_count": 16,
   "id": "155737e8-6e30-4a7d-bf56-1eda88e96495",
   "metadata": {},
   "outputs": [
    {
     "data": {
      "text/plain": [
       "0       2019-03-24\n",
       "1       2019-05-01\n",
       "2       2019-06-09\n",
       "3       2019-05-12\n",
       "4       2019-03-01\n",
       "           ...    \n",
       "10678   2019-04-09\n",
       "10679   2019-04-27\n",
       "10680   2019-04-27\n",
       "10681   2019-03-01\n",
       "10682   2019-05-09\n",
       "Name: Date_of_Journey, Length: 10683, dtype: datetime64[ns]"
      ]
     },
     "execution_count": 16,
     "metadata": {},
     "output_type": "execute_result"
    }
   ],
   "source": [
    "pd.to_datetime(flights.Date_of_Journey,dayfirst=True)"
   ]
  },
  {
   "cell_type": "markdown",
   "id": "7ba50547-896c-469f-b590-d4466288f89e",
   "metadata": {},
   "source": [
    "#### Source"
   ]
  },
  {
   "cell_type": "code",
   "execution_count": 17,
   "id": "89092d0a-2b94-487f-8ab0-1c8ea7ad2a8d",
   "metadata": {},
   "outputs": [
    {
     "data": {
      "text/plain": [
       "array(['Banglore', 'Kolkata', 'Delhi', 'Chennai', 'Mumbai'], dtype=object)"
      ]
     },
     "execution_count": 17,
     "metadata": {},
     "output_type": "execute_result"
    }
   ],
   "source": [
    "flights.Source.unique()"
   ]
  },
  {
   "cell_type": "markdown",
   "id": "72e88a3b-14d9-4e63-8e70-82c24e58ca6b",
   "metadata": {},
   "source": [
    "#### Destination"
   ]
  },
  {
   "cell_type": "code",
   "execution_count": 18,
   "id": "9842be61-cb55-458a-b623-de051748735c",
   "metadata": {},
   "outputs": [
    {
     "data": {
      "text/plain": [
       "array(['New Delhi', 'Banglore', 'Cochin', 'Kolkata', 'Delhi', 'Hyderabad'],\n",
       "      dtype=object)"
      ]
     },
     "execution_count": 18,
     "metadata": {},
     "output_type": "execute_result"
    }
   ],
   "source": [
    "flights.Destination.unique()"
   ]
  },
  {
   "cell_type": "markdown",
   "id": "e565c9f9-a24d-4c01-be44-743d5a9d9798",
   "metadata": {},
   "source": [
    "#### Dep_Time"
   ]
  },
  {
   "cell_type": "code",
   "execution_count": 19,
   "id": "4849e47e-443d-4fa6-b415-5af02756dc9c",
   "metadata": {},
   "outputs": [
    {
     "data": {
      "text/plain": [
       "0        22:20\n",
       "1        05:50\n",
       "2        09:25\n",
       "3        18:05\n",
       "4        16:50\n",
       "         ...  \n",
       "10678    19:55\n",
       "10679    20:45\n",
       "10680    08:20\n",
       "10681    11:30\n",
       "10682    10:55\n",
       "Name: Dep_Time, Length: 10683, dtype: object"
      ]
     },
     "execution_count": 19,
     "metadata": {},
     "output_type": "execute_result"
    }
   ],
   "source": [
    "flights.Dep_Time"
   ]
  },
  {
   "cell_type": "code",
   "execution_count": 20,
   "id": "776a298e-0748-430e-8cb5-788fb9d29fb2",
   "metadata": {},
   "outputs": [
    {
     "data": {
      "text/plain": [
       "Series([], Name: Dep_Time, dtype: object)"
      ]
     },
     "execution_count": 20,
     "metadata": {},
     "output_type": "execute_result"
    }
   ],
   "source": [
    "(\n",
    "    flights\n",
    "    .Dep_Time\n",
    "    .loc[lambda ser : ser.str.contains(\"[^0-9:]\")]\n",
    ")"
   ]
  },
  {
   "cell_type": "code",
   "execution_count": 21,
   "id": "a645e033-6df5-4f1b-8a04-474853e2ee60",
   "metadata": {},
   "outputs": [
    {
     "name": "stderr",
     "output_type": "stream",
     "text": [
      "C:\\Users\\ogeti\\AppData\\Local\\Temp\\ipykernel_5720\\1056054517.py:1: UserWarning: Could not infer format, so each element will be parsed individually, falling back to `dateutil`. To ensure parsing is consistent and as-expected, please specify a format.\n",
      "  pd.to_datetime(flights.Dep_Time).dt.time\n"
     ]
    },
    {
     "data": {
      "text/plain": [
       "0        22:20:00\n",
       "1        05:50:00\n",
       "2        09:25:00\n",
       "3        18:05:00\n",
       "4        16:50:00\n",
       "           ...   \n",
       "10678    19:55:00\n",
       "10679    20:45:00\n",
       "10680    08:20:00\n",
       "10681    11:30:00\n",
       "10682    10:55:00\n",
       "Name: Dep_Time, Length: 10683, dtype: object"
      ]
     },
     "execution_count": 21,
     "metadata": {},
     "output_type": "execute_result"
    }
   ],
   "source": [
    "pd.to_datetime(flights.Dep_Time).dt.time"
   ]
  },
  {
   "cell_type": "markdown",
   "id": "ec306a79-7620-41bc-b57b-03e9470cca58",
   "metadata": {},
   "source": [
    "#### Arrival_Time"
   ]
  },
  {
   "cell_type": "code",
   "execution_count": 22,
   "id": "8e7ddc05-a1fd-4a0b-97a4-8485a5ccfb53",
   "metadata": {},
   "outputs": [
    {
     "data": {
      "text/plain": [
       "0        01:10 22 Mar\n",
       "1               13:15\n",
       "2        04:25 10 Jun\n",
       "3               23:30\n",
       "4               21:35\n",
       "             ...     \n",
       "10678           22:25\n",
       "10679           23:20\n",
       "10680           11:20\n",
       "10681           14:10\n",
       "10682           19:15\n",
       "Name: Arrival_Time, Length: 10683, dtype: object"
      ]
     },
     "execution_count": 22,
     "metadata": {},
     "output_type": "execute_result"
    }
   ],
   "source": [
    "flights.Arrival_Time"
   ]
  },
  {
   "cell_type": "code",
   "execution_count": 23,
   "id": "5f4c239d-4520-490a-8c3a-c01ed6fbf237",
   "metadata": {},
   "outputs": [
    {
     "data": {
      "text/plain": [
       "array(['22 Mar', '10 Jun', '13 Mar', '02 Mar', '10 May', '04 Mar',\n",
       "       '13 Jun', '28 May', '19 Mar', '07 May', '02 Jun', '16 Jun',\n",
       "       '19 May', '16 May', '28 Jun', '02 May', '28 Mar', '19 Jun',\n",
       "       '04 Apr', '25 Mar', '07 Mar', '25 Jun', '07 Jun', '25 May',\n",
       "       '13 May', '16 Mar', '22 May', '10 Apr', '04 Jun', '20 May',\n",
       "       '28 Apr', '25 Apr', '10 Mar', '19 Apr', '13 Apr', '02 Apr',\n",
       "       '23 Mar', '22 Apr', '11 May', '07 Apr', '03 May', '08 Mar',\n",
       "       '03 Mar', '05 Mar', '22 Jun', '04 May', '26 May', '16 Apr',\n",
       "       '26 Jun', '29 May', '29 Jun', '29 Mar', '23 May', '17 Jun'],\n",
       "      dtype=object)"
      ]
     },
     "execution_count": 23,
     "metadata": {},
     "output_type": "execute_result"
    }
   ],
   "source": [
    "(\n",
    "    flights\n",
    "    .Arrival_Time\n",
    "    .loc[lambda ser: ser.str.contains(\"[^0-9:]\")]\n",
    "    .str.split(\" \", n=1)\n",
    "    .str.get(1)\n",
    "    .unique()\n",
    ")"
   ]
  },
  {
   "cell_type": "markdown",
   "id": "240d2d14-1b70-4250-a7b3-23938aa34b3b",
   "metadata": {},
   "source": [
    "#### Duration"
   ]
  },
  {
   "cell_type": "code",
   "execution_count": 24,
   "id": "a1df7fe6-ede6-48d2-9af9-5fd33b932858",
   "metadata": {},
   "outputs": [
    {
     "data": {
      "text/plain": [
       "0        2h 50m\n",
       "1        7h 25m\n",
       "2           19h\n",
       "3        5h 25m\n",
       "4        4h 45m\n",
       "          ...  \n",
       "10678    2h 30m\n",
       "10679    2h 35m\n",
       "10680        3h\n",
       "10681    2h 40m\n",
       "10682    8h 20m\n",
       "Name: Duration, Length: 10683, dtype: object"
      ]
     },
     "execution_count": 24,
     "metadata": {},
     "output_type": "execute_result"
    }
   ],
   "source": [
    "flights.Duration"
   ]
  },
  {
   "cell_type": "code",
   "execution_count": 25,
   "id": "a7b2704d-9c48-4957-89aa-1dccb503580e",
   "metadata": {},
   "outputs": [
    {
     "data": {
      "text/plain": [
       "array(['19h', '23h', '22h', '12h', '3h', '5h', '10h', '18h', '24h', '15h',\n",
       "       '16h', '8h', '14h', '20h', '13h', '11h', '9h', '27h', '26h', '4h',\n",
       "       '7h', '30h', '21h', '28h', '47h', '6h', '25h', '38h', '34h'],\n",
       "      dtype=object)"
      ]
     },
     "execution_count": 25,
     "metadata": {},
     "output_type": "execute_result"
    }
   ],
   "source": [
    "(\n",
    "    flights\n",
    "    .Duration\n",
    "    .loc[lambda ser: ~ser.str.contains(\"m\")]\n",
    "    .unique()\n",
    ")"
   ]
  },
  {
   "cell_type": "code",
   "execution_count": 26,
   "id": "fe53686c-4392-4bd8-8dbc-73d6bdb732ea",
   "metadata": {},
   "outputs": [
    {
     "data": {
      "text/plain": [
       "6474    5m\n",
       "Name: Duration, dtype: object"
      ]
     },
     "execution_count": 26,
     "metadata": {},
     "output_type": "execute_result"
    }
   ],
   "source": [
    "(\n",
    "    flights\n",
    "    .Duration\n",
    "    .loc[lambda ser: ~ser.str.contains(\"h\")]\n",
    "    #.unique()\n",
    ")"
   ]
  },
  {
   "cell_type": "code",
   "execution_count": 27,
   "id": "344a11d7-8b96-4061-be7b-eaeda198d9db",
   "metadata": {},
   "outputs": [
    {
     "data": {
      "text/html": [
       "<div>\n",
       "<style scoped>\n",
       "    .dataframe tbody tr th:only-of-type {\n",
       "        vertical-align: middle;\n",
       "    }\n",
       "\n",
       "    .dataframe tbody tr th {\n",
       "        vertical-align: top;\n",
       "    }\n",
       "\n",
       "    .dataframe thead th {\n",
       "        text-align: right;\n",
       "    }\n",
       "</style>\n",
       "<table border=\"1\" class=\"dataframe\">\n",
       "  <thead>\n",
       "    <tr style=\"text-align: right;\">\n",
       "      <th></th>\n",
       "      <th>Airline</th>\n",
       "      <th>Date_of_Journey</th>\n",
       "      <th>Source</th>\n",
       "      <th>Destination</th>\n",
       "      <th>Route</th>\n",
       "      <th>Dep_Time</th>\n",
       "      <th>Arrival_Time</th>\n",
       "      <th>Duration</th>\n",
       "      <th>Total_Stops</th>\n",
       "      <th>Additional_Info</th>\n",
       "      <th>Price</th>\n",
       "    </tr>\n",
       "  </thead>\n",
       "  <tbody>\n",
       "    <tr>\n",
       "      <th>6474</th>\n",
       "      <td>Air India</td>\n",
       "      <td>6/03/2019</td>\n",
       "      <td>Mumbai</td>\n",
       "      <td>Hyderabad</td>\n",
       "      <td>BOM → GOI → PNQ → HYD</td>\n",
       "      <td>16:50</td>\n",
       "      <td>16:55</td>\n",
       "      <td>5m</td>\n",
       "      <td>2 stops</td>\n",
       "      <td>No info</td>\n",
       "      <td>17327</td>\n",
       "    </tr>\n",
       "  </tbody>\n",
       "</table>\n",
       "</div>"
      ],
      "text/plain": [
       "        Airline Date_of_Journey  Source Destination                  Route  \\\n",
       "6474  Air India       6/03/2019  Mumbai   Hyderabad  BOM → GOI → PNQ → HYD   \n",
       "\n",
       "     Dep_Time Arrival_Time Duration Total_Stops Additional_Info  Price  \n",
       "6474    16:50        16:55       5m     2 stops         No info  17327  "
      ]
     },
     "execution_count": 27,
     "metadata": {},
     "output_type": "execute_result"
    }
   ],
   "source": [
    "flights.iloc[[6474]]"
   ]
  },
  {
   "cell_type": "markdown",
   "id": "29d71dae-d4b7-428b-bbc4-c375d738fd26",
   "metadata": {},
   "source": [
    "- The observation indexed 6474 has duration of 5 minutes. This is clearly wrong. will delete this observation."
   ]
  },
  {
   "cell_type": "code",
   "execution_count": 28,
   "id": "7d9469ef-ad7c-436a-b346-05b971dcbf34",
   "metadata": {},
   "outputs": [
    {
     "data": {
      "text/plain": [
       "0         170\n",
       "1         445\n",
       "2        1140\n",
       "3         325\n",
       "4         285\n",
       "         ... \n",
       "10678     150\n",
       "10679     155\n",
       "10680     180\n",
       "10681     160\n",
       "10682     500\n",
       "Length: 10682, dtype: int64"
      ]
     },
     "execution_count": 28,
     "metadata": {},
     "output_type": "execute_result"
    }
   ],
   "source": [
    "(\n",
    "    flights\n",
    "    .Duration\n",
    "    .drop(index=6474)\n",
    "    .str.split(\" \",expand=True)\n",
    "    .set_axis([\"hour\",\"minute\"],axis=1)\n",
    "    .assign(\n",
    "        hour = lambda df_ : (\n",
    "            df_\n",
    "            .hour\n",
    "            .str.replace(\"h\",\"\")\n",
    "            .astype(\"int\")\n",
    "            .mul(60)\n",
    "        ),\n",
    "        minute = lambda df_ : (\n",
    "            df_\n",
    "            .minute\n",
    "            .str.replace(\"m\",\"\")\n",
    "            .fillna(\"0\")\n",
    "            .astype(\"int\")\n",
    "        )\n",
    "    )\n",
    "    .sum(axis=1)\n",
    ")"
   ]
  },
  {
   "cell_type": "code",
   "execution_count": 106,
   "id": "ef8bb38e-6ff7-4b4d-93cf-05ef9626f206",
   "metadata": {},
   "outputs": [
    {
     "data": {
      "text/html": [
       "<div>\n",
       "<style scoped>\n",
       "    .dataframe tbody tr th:only-of-type {\n",
       "        vertical-align: middle;\n",
       "    }\n",
       "\n",
       "    .dataframe tbody tr th {\n",
       "        vertical-align: top;\n",
       "    }\n",
       "\n",
       "    .dataframe thead th {\n",
       "        text-align: right;\n",
       "    }\n",
       "</style>\n",
       "<table border=\"1\" class=\"dataframe\">\n",
       "  <thead>\n",
       "    <tr style=\"text-align: right;\">\n",
       "      <th></th>\n",
       "      <th>duration_minutes</th>\n",
       "      <th>Duration</th>\n",
       "    </tr>\n",
       "  </thead>\n",
       "  <tbody>\n",
       "    <tr>\n",
       "      <th>0</th>\n",
       "      <td>170</td>\n",
       "      <td>2h 50m</td>\n",
       "    </tr>\n",
       "    <tr>\n",
       "      <th>1</th>\n",
       "      <td>445</td>\n",
       "      <td>7h 25m</td>\n",
       "    </tr>\n",
       "    <tr>\n",
       "      <th>2</th>\n",
       "      <td>1140</td>\n",
       "      <td>19h</td>\n",
       "    </tr>\n",
       "    <tr>\n",
       "      <th>3</th>\n",
       "      <td>325</td>\n",
       "      <td>5h 25m</td>\n",
       "    </tr>\n",
       "    <tr>\n",
       "      <th>4</th>\n",
       "      <td>285</td>\n",
       "      <td>4h 45m</td>\n",
       "    </tr>\n",
       "    <tr>\n",
       "      <th>...</th>\n",
       "      <td>...</td>\n",
       "      <td>...</td>\n",
       "    </tr>\n",
       "    <tr>\n",
       "      <th>10678</th>\n",
       "      <td>150</td>\n",
       "      <td>2h 30m</td>\n",
       "    </tr>\n",
       "    <tr>\n",
       "      <th>10679</th>\n",
       "      <td>155</td>\n",
       "      <td>2h 35m</td>\n",
       "    </tr>\n",
       "    <tr>\n",
       "      <th>10680</th>\n",
       "      <td>180</td>\n",
       "      <td>3h</td>\n",
       "    </tr>\n",
       "    <tr>\n",
       "      <th>10681</th>\n",
       "      <td>160</td>\n",
       "      <td>2h 40m</td>\n",
       "    </tr>\n",
       "    <tr>\n",
       "      <th>10682</th>\n",
       "      <td>500</td>\n",
       "      <td>8h 20m</td>\n",
       "    </tr>\n",
       "  </tbody>\n",
       "</table>\n",
       "<p>10682 rows × 2 columns</p>\n",
       "</div>"
      ],
      "text/plain": [
       "       duration_minutes Duration\n",
       "0                   170   2h 50m\n",
       "1                   445   7h 25m\n",
       "2                  1140      19h\n",
       "3                   325   5h 25m\n",
       "4                   285   4h 45m\n",
       "...                 ...      ...\n",
       "10678               150   2h 30m\n",
       "10679               155   2h 35m\n",
       "10680               180       3h\n",
       "10681               160   2h 40m\n",
       "10682               500   8h 20m\n",
       "\n",
       "[10682 rows x 2 columns]"
      ]
     },
     "execution_count": 106,
     "metadata": {},
     "output_type": "execute_result"
    }
   ],
   "source": [
    "(\n",
    "    flights\n",
    "    .Duration\n",
    "    .drop(index=6474)\n",
    "    .str.split(\" \",expand=True)\n",
    "    .set_axis([\"hour\",\"minute\"],axis=1)\n",
    "    .assign(\n",
    "        hour = lambda df_ : (\n",
    "            df_\n",
    "            .hour\n",
    "            .str.replace(\"h\",\"\")\n",
    "            .astype(\"int\")\n",
    "            .mul(60)\n",
    "        ),\n",
    "        minute = lambda df_ : (\n",
    "            df_\n",
    "            .minute\n",
    "            .str.replace(\"m\",\"\")\n",
    "            .fillna(\"0\")\n",
    "            .astype(\"int\")\n",
    "        )\n",
    "    )\n",
    "    .sum(axis=1)\n",
    "    .rename(\"duration_minutes\")\n",
    "    .to_frame()\n",
    "    .join(flights.Duration.drop(index=6474))\n",
    ")"
   ]
  },
  {
   "cell_type": "markdown",
   "id": "c05b5606-ea17-4f35-b548-0aa9090b9410",
   "metadata": {},
   "source": [
    "#### Total_Stops"
   ]
  },
  {
   "cell_type": "code",
   "execution_count": 29,
   "id": "60b5d78e-8588-4fc2-9d06-e72c5e458ecf",
   "metadata": {},
   "outputs": [
    {
     "data": {
      "text/plain": [
       "array(['non-stop', '2 stops', '1 stop', '3 stops', nan, '4 stops'],\n",
       "      dtype=object)"
      ]
     },
     "execution_count": 29,
     "metadata": {},
     "output_type": "execute_result"
    }
   ],
   "source": [
    "flights.Total_Stops.unique()"
   ]
  },
  {
   "cell_type": "code",
   "execution_count": 30,
   "id": "1f307e0b-03d5-4d1c-a666-affcb1e5d7f9",
   "metadata": {},
   "outputs": [
    {
     "data": {
      "text/plain": [
       "0        0.0\n",
       "1        2.0\n",
       "2        2.0\n",
       "3        1.0\n",
       "4        1.0\n",
       "        ... \n",
       "10678    0.0\n",
       "10679    0.0\n",
       "10680    0.0\n",
       "10681    0.0\n",
       "10682    2.0\n",
       "Name: Total_Stops, Length: 10683, dtype: float64"
      ]
     },
     "execution_count": 30,
     "metadata": {},
     "output_type": "execute_result"
    }
   ],
   "source": [
    "(\n",
    "    flights\n",
    "    .Total_Stops\n",
    "    .replace(\"non-stop\", \"0\")\n",
    "    .str.replace(\" stops?\",\"\",regex=True)\n",
    "    .pipe(lambda ser: pd.to_numeric(ser))\n",
    ")"
   ]
  },
  {
   "cell_type": "markdown",
   "id": "ef6fe314-5a1d-4171-8a84-0c9113fa7bc9",
   "metadata": {},
   "source": [
    "#### additional_info"
   ]
  },
  {
   "cell_type": "code",
   "execution_count": 31,
   "id": "708153da-8104-44d8-875a-1f01d63e18f2",
   "metadata": {},
   "outputs": [
    {
     "data": {
      "text/plain": [
       "array(['No info', 'In-flight meal not included',\n",
       "       'No check-in baggage included', '1 Short layover', 'No Info',\n",
       "       '1 Long layover', 'Change airports', 'Business class',\n",
       "       'Red-eye flight', '2 Long layover'], dtype=object)"
      ]
     },
     "execution_count": 31,
     "metadata": {},
     "output_type": "execute_result"
    }
   ],
   "source": [
    "flights.Additional_Info.unique()"
   ]
  },
  {
   "cell_type": "markdown",
   "id": "6b748502-44c3-43da-a313-f51555d3557e",
   "metadata": {},
   "source": [
    "### 5. Cleaning Operations"
   ]
  },
  {
   "cell_type": "code",
   "execution_count": 32,
   "id": "b7d27151-ac5a-4cb3-a86f-a1e7d794225e",
   "metadata": {},
   "outputs": [],
   "source": [
    "def convert_to_minutes(ser):\n",
    "    return (\n",
    "        ser\n",
    "        .str.split(\" \",expand=True)\n",
    "        .set_axis([\"hour\",\"minute\"],axis=1)\n",
    "        .assign(\n",
    "            hour = lambda df_: (\n",
    "                df_\n",
    "                .hour\n",
    "                .str.replace(\"h\",\"\")\n",
    "                .astype(\"int\")\n",
    "                .mul(60)\n",
    "            ),\n",
    "            minute = lambda df_ : (\n",
    "                df_\n",
    "                .minute\n",
    "                .str.replace(\"m\",\"\")\n",
    "                .fillna(\"0\")\n",
    "                .astype(\"int\")\n",
    "            )\n",
    "        )\n",
    "        .sum(axis=1)  \n",
    "    )"
   ]
  },
  {
   "cell_type": "code",
   "execution_count": 33,
   "id": "1ffed002-d559-42df-9b24-23fb252193cd",
   "metadata": {},
   "outputs": [],
   "source": [
    "def clean_data(df):\n",
    "    return (\n",
    "        df\n",
    "        .drop(index=[6474])\n",
    "        .drop_duplicates()\n",
    "        .assign(**{\n",
    "            col: df[col].str.strip()\n",
    "            for col in df.select_dtypes(include=\"O\").columns\n",
    "        }\n",
    "        )\n",
    "        .rename(columns=str.lower)\n",
    "        .assign(\n",
    "            airline = lambda df_ : (\n",
    "                df_\n",
    "                .airline\n",
    "                .str.replace(\" Premium economy\", \"\")\n",
    "                .str.replace(\" Business\", \"\")\n",
    "                .str.title()\n",
    "            ),\n",
    "            date_of_journey = lambda df_ : pd.to_datetime(df_.date_of_journey, dayfirst=True),\n",
    "            dep_time = lambda df_ : pd.to_datetime(df_.dep_time).dt.time,\n",
    "            arrival_time = lambda df_ : pd.to_datetime(df_.arrival_time).dt.time,\n",
    "            duration = lambda df_: df_.duration.pipe(convert_to_minutes),\n",
    "            total_stops = lambda df_: (\n",
    "                df_\n",
    "                .total_stops\n",
    "                .replace(\"non-stop\", \"0\")\n",
    "                .str.replace(\" stops?\",\"\",regex=True)\n",
    "                .pipe(lambda ser: pd.to_numeric(ser))\n",
    "            ),\n",
    "            additional_info = lambda df_: df_.additional_info.replace(\"No info\",\"No Info\")\n",
    "        )\n",
    "        .drop(columns=\"route\")\n",
    "    )"
   ]
  },
  {
   "cell_type": "code",
   "execution_count": 34,
   "id": "78a5cf03-a0ea-46d0-916e-dd7bdd74d408",
   "metadata": {},
   "outputs": [
    {
     "name": "stderr",
     "output_type": "stream",
     "text": [
      "C:\\Users\\ogeti\\AppData\\Local\\Temp\\ipykernel_5720\\948217233.py:21: UserWarning: Could not infer format, so each element will be parsed individually, falling back to `dateutil`. To ensure parsing is consistent and as-expected, please specify a format.\n",
      "  dep_time = lambda df_ : pd.to_datetime(df_.dep_time).dt.time,\n",
      "C:\\Users\\ogeti\\AppData\\Local\\Temp\\ipykernel_5720\\948217233.py:22: UserWarning: Could not infer format, so each element will be parsed individually, falling back to `dateutil`. To ensure parsing is consistent and as-expected, please specify a format.\n",
      "  arrival_time = lambda df_ : pd.to_datetime(df_.arrival_time).dt.time,\n"
     ]
    },
    {
     "data": {
      "text/html": [
       "<div>\n",
       "<style scoped>\n",
       "    .dataframe tbody tr th:only-of-type {\n",
       "        vertical-align: middle;\n",
       "    }\n",
       "\n",
       "    .dataframe tbody tr th {\n",
       "        vertical-align: top;\n",
       "    }\n",
       "\n",
       "    .dataframe thead th {\n",
       "        text-align: right;\n",
       "    }\n",
       "</style>\n",
       "<table border=\"1\" class=\"dataframe\">\n",
       "  <thead>\n",
       "    <tr style=\"text-align: right;\">\n",
       "      <th></th>\n",
       "      <th>airline</th>\n",
       "      <th>date_of_journey</th>\n",
       "      <th>source</th>\n",
       "      <th>destination</th>\n",
       "      <th>dep_time</th>\n",
       "      <th>arrival_time</th>\n",
       "      <th>duration</th>\n",
       "      <th>total_stops</th>\n",
       "      <th>additional_info</th>\n",
       "      <th>price</th>\n",
       "    </tr>\n",
       "  </thead>\n",
       "  <tbody>\n",
       "    <tr>\n",
       "      <th>0</th>\n",
       "      <td>Indigo</td>\n",
       "      <td>2019-03-24</td>\n",
       "      <td>Banglore</td>\n",
       "      <td>New Delhi</td>\n",
       "      <td>22:20:00</td>\n",
       "      <td>01:10:00</td>\n",
       "      <td>170</td>\n",
       "      <td>0.0</td>\n",
       "      <td>No Info</td>\n",
       "      <td>3897</td>\n",
       "    </tr>\n",
       "    <tr>\n",
       "      <th>1</th>\n",
       "      <td>Air India</td>\n",
       "      <td>2019-05-01</td>\n",
       "      <td>Kolkata</td>\n",
       "      <td>Banglore</td>\n",
       "      <td>05:50:00</td>\n",
       "      <td>13:15:00</td>\n",
       "      <td>445</td>\n",
       "      <td>2.0</td>\n",
       "      <td>No Info</td>\n",
       "      <td>7662</td>\n",
       "    </tr>\n",
       "    <tr>\n",
       "      <th>2</th>\n",
       "      <td>Jet Airways</td>\n",
       "      <td>2019-06-09</td>\n",
       "      <td>Delhi</td>\n",
       "      <td>Cochin</td>\n",
       "      <td>09:25:00</td>\n",
       "      <td>04:25:00</td>\n",
       "      <td>1140</td>\n",
       "      <td>2.0</td>\n",
       "      <td>No Info</td>\n",
       "      <td>13882</td>\n",
       "    </tr>\n",
       "    <tr>\n",
       "      <th>3</th>\n",
       "      <td>Indigo</td>\n",
       "      <td>2019-05-12</td>\n",
       "      <td>Kolkata</td>\n",
       "      <td>Banglore</td>\n",
       "      <td>18:05:00</td>\n",
       "      <td>23:30:00</td>\n",
       "      <td>325</td>\n",
       "      <td>1.0</td>\n",
       "      <td>No Info</td>\n",
       "      <td>6218</td>\n",
       "    </tr>\n",
       "    <tr>\n",
       "      <th>4</th>\n",
       "      <td>Indigo</td>\n",
       "      <td>2019-03-01</td>\n",
       "      <td>Banglore</td>\n",
       "      <td>New Delhi</td>\n",
       "      <td>16:50:00</td>\n",
       "      <td>21:35:00</td>\n",
       "      <td>285</td>\n",
       "      <td>1.0</td>\n",
       "      <td>No Info</td>\n",
       "      <td>13302</td>\n",
       "    </tr>\n",
       "    <tr>\n",
       "      <th>...</th>\n",
       "      <td>...</td>\n",
       "      <td>...</td>\n",
       "      <td>...</td>\n",
       "      <td>...</td>\n",
       "      <td>...</td>\n",
       "      <td>...</td>\n",
       "      <td>...</td>\n",
       "      <td>...</td>\n",
       "      <td>...</td>\n",
       "      <td>...</td>\n",
       "    </tr>\n",
       "    <tr>\n",
       "      <th>10678</th>\n",
       "      <td>Air Asia</td>\n",
       "      <td>2019-04-09</td>\n",
       "      <td>Kolkata</td>\n",
       "      <td>Banglore</td>\n",
       "      <td>19:55:00</td>\n",
       "      <td>22:25:00</td>\n",
       "      <td>150</td>\n",
       "      <td>0.0</td>\n",
       "      <td>No Info</td>\n",
       "      <td>4107</td>\n",
       "    </tr>\n",
       "    <tr>\n",
       "      <th>10679</th>\n",
       "      <td>Air India</td>\n",
       "      <td>2019-04-27</td>\n",
       "      <td>Kolkata</td>\n",
       "      <td>Banglore</td>\n",
       "      <td>20:45:00</td>\n",
       "      <td>23:20:00</td>\n",
       "      <td>155</td>\n",
       "      <td>0.0</td>\n",
       "      <td>No Info</td>\n",
       "      <td>4145</td>\n",
       "    </tr>\n",
       "    <tr>\n",
       "      <th>10680</th>\n",
       "      <td>Jet Airways</td>\n",
       "      <td>2019-04-27</td>\n",
       "      <td>Banglore</td>\n",
       "      <td>Delhi</td>\n",
       "      <td>08:20:00</td>\n",
       "      <td>11:20:00</td>\n",
       "      <td>180</td>\n",
       "      <td>0.0</td>\n",
       "      <td>No Info</td>\n",
       "      <td>7229</td>\n",
       "    </tr>\n",
       "    <tr>\n",
       "      <th>10681</th>\n",
       "      <td>Vistara</td>\n",
       "      <td>2019-03-01</td>\n",
       "      <td>Banglore</td>\n",
       "      <td>New Delhi</td>\n",
       "      <td>11:30:00</td>\n",
       "      <td>14:10:00</td>\n",
       "      <td>160</td>\n",
       "      <td>0.0</td>\n",
       "      <td>No Info</td>\n",
       "      <td>12648</td>\n",
       "    </tr>\n",
       "    <tr>\n",
       "      <th>10682</th>\n",
       "      <td>Air India</td>\n",
       "      <td>2019-05-09</td>\n",
       "      <td>Delhi</td>\n",
       "      <td>Cochin</td>\n",
       "      <td>10:55:00</td>\n",
       "      <td>19:15:00</td>\n",
       "      <td>500</td>\n",
       "      <td>2.0</td>\n",
       "      <td>No Info</td>\n",
       "      <td>11753</td>\n",
       "    </tr>\n",
       "  </tbody>\n",
       "</table>\n",
       "<p>10462 rows × 10 columns</p>\n",
       "</div>"
      ],
      "text/plain": [
       "           airline date_of_journey    source destination  dep_time  \\\n",
       "0           Indigo      2019-03-24  Banglore   New Delhi  22:20:00   \n",
       "1        Air India      2019-05-01   Kolkata    Banglore  05:50:00   \n",
       "2      Jet Airways      2019-06-09     Delhi      Cochin  09:25:00   \n",
       "3           Indigo      2019-05-12   Kolkata    Banglore  18:05:00   \n",
       "4           Indigo      2019-03-01  Banglore   New Delhi  16:50:00   \n",
       "...            ...             ...       ...         ...       ...   \n",
       "10678     Air Asia      2019-04-09   Kolkata    Banglore  19:55:00   \n",
       "10679    Air India      2019-04-27   Kolkata    Banglore  20:45:00   \n",
       "10680  Jet Airways      2019-04-27  Banglore       Delhi  08:20:00   \n",
       "10681      Vistara      2019-03-01  Banglore   New Delhi  11:30:00   \n",
       "10682    Air India      2019-05-09     Delhi      Cochin  10:55:00   \n",
       "\n",
       "      arrival_time  duration  total_stops additional_info  price  \n",
       "0         01:10:00       170          0.0         No Info   3897  \n",
       "1         13:15:00       445          2.0         No Info   7662  \n",
       "2         04:25:00      1140          2.0         No Info  13882  \n",
       "3         23:30:00       325          1.0         No Info   6218  \n",
       "4         21:35:00       285          1.0         No Info  13302  \n",
       "...            ...       ...          ...             ...    ...  \n",
       "10678     22:25:00       150          0.0         No Info   4107  \n",
       "10679     23:20:00       155          0.0         No Info   4145  \n",
       "10680     11:20:00       180          0.0         No Info   7229  \n",
       "10681     14:10:00       160          0.0         No Info  12648  \n",
       "10682     19:15:00       500          2.0         No Info  11753  \n",
       "\n",
       "[10462 rows x 10 columns]"
      ]
     },
     "execution_count": 34,
     "metadata": {},
     "output_type": "execute_result"
    }
   ],
   "source": [
    "flights_cleaned = clean_data(flights)\n",
    "flights_cleaned"
   ]
  },
  {
   "cell_type": "markdown",
   "id": "68e8ab35-b273-4a84-bd54-ec2a93c9829a",
   "metadata": {},
   "source": [
    "### 6. Split the Data"
   ]
  },
  {
   "cell_type": "code",
   "execution_count": 35,
   "id": "29922859-95dd-45a9-b7c5-7b985104e86b",
   "metadata": {},
   "outputs": [],
   "source": [
    "X = flights_cleaned.drop(columns='price')\n",
    "y = flights_cleaned[\"price\"]"
   ]
  },
  {
   "cell_type": "code",
   "execution_count": 36,
   "id": "39eceaae-1926-41aa-8bcf-993f7d3ed7a7",
   "metadata": {},
   "outputs": [],
   "source": [
    "X_,X_test, y_, y_test = train_test_split(X,y,test_size=0.2, random_state=42)\n",
    "X_train,X_val,y_train,y_val = train_test_split(X_,y_,test_size=0.2,random_state=42)"
   ]
  },
  {
   "cell_type": "code",
   "execution_count": 37,
   "id": "6b1e6921-0452-4a1d-a0f8-317da8a050c9",
   "metadata": {},
   "outputs": [
    {
     "name": "stdout",
     "output_type": "stream",
     "text": [
      "(6695, 9) (6695,)\n",
      "(2093, 9) (2093,)\n",
      "(1674, 9) (1674,)\n"
     ]
    }
   ],
   "source": [
    "print(X_train.shape,y_train.shape)\n",
    "print(X_test.shape,y_test.shape)\n",
    "print(X_val.shape,y_val.shape)"
   ]
  },
  {
   "cell_type": "markdown",
   "id": "fe5ab001-92aa-408a-bd35-3c4265ccfd01",
   "metadata": {},
   "source": [
    "### 7. Export the Subsets"
   ]
  },
  {
   "cell_type": "code",
   "execution_count": 38,
   "id": "084963e4-51c6-45ca-9f54-4faf1dc82dbd",
   "metadata": {},
   "outputs": [],
   "source": [
    "def export_data(X,y,name):\n",
    "    file_name = f\"{name}.csv\"\n",
    "    file_path = os.path.join(PROJECT_DIR,DATA_DIR,file_name)\n",
    "\n",
    "    X.join(y).to_csv(file_path, index=False)\n",
    "\n",
    "    return pd.read_csv(file_path).head()"
   ]
  },
  {
   "cell_type": "code",
   "execution_count": 39,
   "id": "e7b20e1f-9ad2-468c-a9fb-b3bc902cbf9c",
   "metadata": {},
   "outputs": [
    {
     "data": {
      "text/html": [
       "<div>\n",
       "<style scoped>\n",
       "    .dataframe tbody tr th:only-of-type {\n",
       "        vertical-align: middle;\n",
       "    }\n",
       "\n",
       "    .dataframe tbody tr th {\n",
       "        vertical-align: top;\n",
       "    }\n",
       "\n",
       "    .dataframe thead th {\n",
       "        text-align: right;\n",
       "    }\n",
       "</style>\n",
       "<table border=\"1\" class=\"dataframe\">\n",
       "  <thead>\n",
       "    <tr style=\"text-align: right;\">\n",
       "      <th></th>\n",
       "      <th>airline</th>\n",
       "      <th>date_of_journey</th>\n",
       "      <th>source</th>\n",
       "      <th>destination</th>\n",
       "      <th>dep_time</th>\n",
       "      <th>arrival_time</th>\n",
       "      <th>duration</th>\n",
       "      <th>total_stops</th>\n",
       "      <th>additional_info</th>\n",
       "      <th>price</th>\n",
       "    </tr>\n",
       "  </thead>\n",
       "  <tbody>\n",
       "    <tr>\n",
       "      <th>0</th>\n",
       "      <td>Jet Airways</td>\n",
       "      <td>2019-03-21</td>\n",
       "      <td>Banglore</td>\n",
       "      <td>New Delhi</td>\n",
       "      <td>08:55:00</td>\n",
       "      <td>19:10:00</td>\n",
       "      <td>615</td>\n",
       "      <td>1.0</td>\n",
       "      <td>In-flight meal not included</td>\n",
       "      <td>7832</td>\n",
       "    </tr>\n",
       "    <tr>\n",
       "      <th>1</th>\n",
       "      <td>Jet Airways</td>\n",
       "      <td>2019-03-27</td>\n",
       "      <td>Delhi</td>\n",
       "      <td>Cochin</td>\n",
       "      <td>17:30:00</td>\n",
       "      <td>04:25:00</td>\n",
       "      <td>655</td>\n",
       "      <td>1.0</td>\n",
       "      <td>In-flight meal not included</td>\n",
       "      <td>6540</td>\n",
       "    </tr>\n",
       "    <tr>\n",
       "      <th>2</th>\n",
       "      <td>Goair</td>\n",
       "      <td>2019-03-09</td>\n",
       "      <td>Banglore</td>\n",
       "      <td>New Delhi</td>\n",
       "      <td>11:40:00</td>\n",
       "      <td>14:35:00</td>\n",
       "      <td>175</td>\n",
       "      <td>0.0</td>\n",
       "      <td>No Info</td>\n",
       "      <td>7305</td>\n",
       "    </tr>\n",
       "    <tr>\n",
       "      <th>3</th>\n",
       "      <td>Air India</td>\n",
       "      <td>2019-06-12</td>\n",
       "      <td>Kolkata</td>\n",
       "      <td>Banglore</td>\n",
       "      <td>09:25:00</td>\n",
       "      <td>18:30:00</td>\n",
       "      <td>545</td>\n",
       "      <td>1.0</td>\n",
       "      <td>No Info</td>\n",
       "      <td>8366</td>\n",
       "    </tr>\n",
       "    <tr>\n",
       "      <th>4</th>\n",
       "      <td>Jet Airways</td>\n",
       "      <td>2019-03-12</td>\n",
       "      <td>Banglore</td>\n",
       "      <td>New Delhi</td>\n",
       "      <td>22:55:00</td>\n",
       "      <td>07:40:00</td>\n",
       "      <td>525</td>\n",
       "      <td>1.0</td>\n",
       "      <td>In-flight meal not included</td>\n",
       "      <td>11087</td>\n",
       "    </tr>\n",
       "  </tbody>\n",
       "</table>\n",
       "</div>"
      ],
      "text/plain": [
       "       airline date_of_journey    source destination  dep_time arrival_time  \\\n",
       "0  Jet Airways      2019-03-21  Banglore   New Delhi  08:55:00     19:10:00   \n",
       "1  Jet Airways      2019-03-27     Delhi      Cochin  17:30:00     04:25:00   \n",
       "2        Goair      2019-03-09  Banglore   New Delhi  11:40:00     14:35:00   \n",
       "3    Air India      2019-06-12   Kolkata    Banglore  09:25:00     18:30:00   \n",
       "4  Jet Airways      2019-03-12  Banglore   New Delhi  22:55:00     07:40:00   \n",
       "\n",
       "   duration  total_stops              additional_info  price  \n",
       "0       615          1.0  In-flight meal not included   7832  \n",
       "1       655          1.0  In-flight meal not included   6540  \n",
       "2       175          0.0                      No Info   7305  \n",
       "3       545          1.0                      No Info   8366  \n",
       "4       525          1.0  In-flight meal not included  11087  "
      ]
     },
     "execution_count": 39,
     "metadata": {},
     "output_type": "execute_result"
    }
   ],
   "source": [
    "export_data(X_train,y_train,\"train\")"
   ]
  },
  {
   "cell_type": "code",
   "execution_count": 40,
   "id": "e632b552-4e59-4946-b534-467167dda06e",
   "metadata": {},
   "outputs": [
    {
     "data": {
      "text/html": [
       "<div>\n",
       "<style scoped>\n",
       "    .dataframe tbody tr th:only-of-type {\n",
       "        vertical-align: middle;\n",
       "    }\n",
       "\n",
       "    .dataframe tbody tr th {\n",
       "        vertical-align: top;\n",
       "    }\n",
       "\n",
       "    .dataframe thead th {\n",
       "        text-align: right;\n",
       "    }\n",
       "</style>\n",
       "<table border=\"1\" class=\"dataframe\">\n",
       "  <thead>\n",
       "    <tr style=\"text-align: right;\">\n",
       "      <th></th>\n",
       "      <th>airline</th>\n",
       "      <th>date_of_journey</th>\n",
       "      <th>source</th>\n",
       "      <th>destination</th>\n",
       "      <th>dep_time</th>\n",
       "      <th>arrival_time</th>\n",
       "      <th>duration</th>\n",
       "      <th>total_stops</th>\n",
       "      <th>additional_info</th>\n",
       "      <th>price</th>\n",
       "    </tr>\n",
       "  </thead>\n",
       "  <tbody>\n",
       "    <tr>\n",
       "      <th>0</th>\n",
       "      <td>Indigo</td>\n",
       "      <td>2019-06-24</td>\n",
       "      <td>Delhi</td>\n",
       "      <td>Cochin</td>\n",
       "      <td>20:25:00</td>\n",
       "      <td>01:30:00</td>\n",
       "      <td>305</td>\n",
       "      <td>1.0</td>\n",
       "      <td>No Info</td>\n",
       "      <td>5054</td>\n",
       "    </tr>\n",
       "    <tr>\n",
       "      <th>1</th>\n",
       "      <td>Multiple Carriers</td>\n",
       "      <td>2019-06-12</td>\n",
       "      <td>Delhi</td>\n",
       "      <td>Cochin</td>\n",
       "      <td>09:45:00</td>\n",
       "      <td>22:30:00</td>\n",
       "      <td>765</td>\n",
       "      <td>1.0</td>\n",
       "      <td>No Info</td>\n",
       "      <td>9646</td>\n",
       "    </tr>\n",
       "    <tr>\n",
       "      <th>2</th>\n",
       "      <td>Jet Airways</td>\n",
       "      <td>2019-03-12</td>\n",
       "      <td>Banglore</td>\n",
       "      <td>New Delhi</td>\n",
       "      <td>22:55:00</td>\n",
       "      <td>15:15:00</td>\n",
       "      <td>980</td>\n",
       "      <td>1.0</td>\n",
       "      <td>In-flight meal not included</td>\n",
       "      <td>11087</td>\n",
       "    </tr>\n",
       "    <tr>\n",
       "      <th>3</th>\n",
       "      <td>Multiple Carriers</td>\n",
       "      <td>2019-06-06</td>\n",
       "      <td>Delhi</td>\n",
       "      <td>Cochin</td>\n",
       "      <td>13:00:00</td>\n",
       "      <td>21:00:00</td>\n",
       "      <td>480</td>\n",
       "      <td>1.0</td>\n",
       "      <td>No Info</td>\n",
       "      <td>13587</td>\n",
       "    </tr>\n",
       "    <tr>\n",
       "      <th>4</th>\n",
       "      <td>Jet Airways</td>\n",
       "      <td>2019-05-18</td>\n",
       "      <td>Delhi</td>\n",
       "      <td>Cochin</td>\n",
       "      <td>23:05:00</td>\n",
       "      <td>04:25:00</td>\n",
       "      <td>1760</td>\n",
       "      <td>2.0</td>\n",
       "      <td>No Info</td>\n",
       "      <td>16704</td>\n",
       "    </tr>\n",
       "  </tbody>\n",
       "</table>\n",
       "</div>"
      ],
      "text/plain": [
       "             airline date_of_journey    source destination  dep_time  \\\n",
       "0             Indigo      2019-06-24     Delhi      Cochin  20:25:00   \n",
       "1  Multiple Carriers      2019-06-12     Delhi      Cochin  09:45:00   \n",
       "2        Jet Airways      2019-03-12  Banglore   New Delhi  22:55:00   \n",
       "3  Multiple Carriers      2019-06-06     Delhi      Cochin  13:00:00   \n",
       "4        Jet Airways      2019-05-18     Delhi      Cochin  23:05:00   \n",
       "\n",
       "  arrival_time  duration  total_stops              additional_info  price  \n",
       "0     01:30:00       305          1.0                      No Info   5054  \n",
       "1     22:30:00       765          1.0                      No Info   9646  \n",
       "2     15:15:00       980          1.0  In-flight meal not included  11087  \n",
       "3     21:00:00       480          1.0                      No Info  13587  \n",
       "4     04:25:00      1760          2.0                      No Info  16704  "
      ]
     },
     "execution_count": 40,
     "metadata": {},
     "output_type": "execute_result"
    }
   ],
   "source": [
    "export_data(X_val, y_val, 'val')"
   ]
  },
  {
   "cell_type": "code",
   "execution_count": 41,
   "id": "46ec7878-43be-4c1b-bde5-3a0568680e24",
   "metadata": {},
   "outputs": [
    {
     "data": {
      "text/html": [
       "<div>\n",
       "<style scoped>\n",
       "    .dataframe tbody tr th:only-of-type {\n",
       "        vertical-align: middle;\n",
       "    }\n",
       "\n",
       "    .dataframe tbody tr th {\n",
       "        vertical-align: top;\n",
       "    }\n",
       "\n",
       "    .dataframe thead th {\n",
       "        text-align: right;\n",
       "    }\n",
       "</style>\n",
       "<table border=\"1\" class=\"dataframe\">\n",
       "  <thead>\n",
       "    <tr style=\"text-align: right;\">\n",
       "      <th></th>\n",
       "      <th>airline</th>\n",
       "      <th>date_of_journey</th>\n",
       "      <th>source</th>\n",
       "      <th>destination</th>\n",
       "      <th>dep_time</th>\n",
       "      <th>arrival_time</th>\n",
       "      <th>duration</th>\n",
       "      <th>total_stops</th>\n",
       "      <th>additional_info</th>\n",
       "      <th>price</th>\n",
       "    </tr>\n",
       "  </thead>\n",
       "  <tbody>\n",
       "    <tr>\n",
       "      <th>0</th>\n",
       "      <td>Jet Airways</td>\n",
       "      <td>2019-03-06</td>\n",
       "      <td>Banglore</td>\n",
       "      <td>New Delhi</td>\n",
       "      <td>08:00:00</td>\n",
       "      <td>08:15:00</td>\n",
       "      <td>1455</td>\n",
       "      <td>1.0</td>\n",
       "      <td>No Info</td>\n",
       "      <td>17996</td>\n",
       "    </tr>\n",
       "    <tr>\n",
       "      <th>1</th>\n",
       "      <td>Spicejet</td>\n",
       "      <td>2019-06-06</td>\n",
       "      <td>Kolkata</td>\n",
       "      <td>Banglore</td>\n",
       "      <td>22:20:00</td>\n",
       "      <td>00:40:00</td>\n",
       "      <td>140</td>\n",
       "      <td>0.0</td>\n",
       "      <td>No Info</td>\n",
       "      <td>3873</td>\n",
       "    </tr>\n",
       "    <tr>\n",
       "      <th>2</th>\n",
       "      <td>Indigo</td>\n",
       "      <td>2019-03-18</td>\n",
       "      <td>Kolkata</td>\n",
       "      <td>Banglore</td>\n",
       "      <td>05:30:00</td>\n",
       "      <td>08:20:00</td>\n",
       "      <td>170</td>\n",
       "      <td>0.0</td>\n",
       "      <td>No Info</td>\n",
       "      <td>4462</td>\n",
       "    </tr>\n",
       "    <tr>\n",
       "      <th>3</th>\n",
       "      <td>Indigo</td>\n",
       "      <td>2019-06-27</td>\n",
       "      <td>Chennai</td>\n",
       "      <td>Kolkata</td>\n",
       "      <td>19:35:00</td>\n",
       "      <td>21:55:00</td>\n",
       "      <td>140</td>\n",
       "      <td>0.0</td>\n",
       "      <td>No Info</td>\n",
       "      <td>3597</td>\n",
       "    </tr>\n",
       "    <tr>\n",
       "      <th>4</th>\n",
       "      <td>Indigo</td>\n",
       "      <td>2019-05-06</td>\n",
       "      <td>Kolkata</td>\n",
       "      <td>Banglore</td>\n",
       "      <td>15:15:00</td>\n",
       "      <td>17:45:00</td>\n",
       "      <td>150</td>\n",
       "      <td>0.0</td>\n",
       "      <td>No Info</td>\n",
       "      <td>4804</td>\n",
       "    </tr>\n",
       "  </tbody>\n",
       "</table>\n",
       "</div>"
      ],
      "text/plain": [
       "       airline date_of_journey    source destination  dep_time arrival_time  \\\n",
       "0  Jet Airways      2019-03-06  Banglore   New Delhi  08:00:00     08:15:00   \n",
       "1     Spicejet      2019-06-06   Kolkata    Banglore  22:20:00     00:40:00   \n",
       "2       Indigo      2019-03-18   Kolkata    Banglore  05:30:00     08:20:00   \n",
       "3       Indigo      2019-06-27   Chennai     Kolkata  19:35:00     21:55:00   \n",
       "4       Indigo      2019-05-06   Kolkata    Banglore  15:15:00     17:45:00   \n",
       "\n",
       "   duration  total_stops additional_info  price  \n",
       "0      1455          1.0         No Info  17996  \n",
       "1       140          0.0         No Info   3873  \n",
       "2       170          0.0         No Info   4462  \n",
       "3       140          0.0         No Info   3597  \n",
       "4       150          0.0         No Info   4804  "
      ]
     },
     "execution_count": 41,
     "metadata": {},
     "output_type": "execute_result"
    }
   ],
   "source": [
    "export_data(X_test,y_test,\"test\")"
   ]
  },
  {
   "cell_type": "code",
   "execution_count": null,
   "id": "909b78c4-e2b5-402b-91f8-fbc15ef3e876",
   "metadata": {},
   "outputs": [],
   "source": []
  }
 ],
 "metadata": {
  "kernelspec": {
   "display_name": "Python (flights-venv)",
   "language": "python",
   "name": "flights-venv"
  },
  "language_info": {
   "codemirror_mode": {
    "name": "ipython",
    "version": 3
   },
   "file_extension": ".py",
   "mimetype": "text/x-python",
   "name": "python",
   "nbconvert_exporter": "python",
   "pygments_lexer": "ipython3",
   "version": "3.11.7"
  }
 },
 "nbformat": 4,
 "nbformat_minor": 5
}
